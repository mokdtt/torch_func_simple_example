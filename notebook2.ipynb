{
 "cells": [
  {
   "cell_type": "markdown",
   "id": "a8179383-edf5-4a79-a1f5-82dba10bc878",
   "metadata": {},
   "source": [
    "# Matrix Computations in a Simple Classification Model\n",
    "- Utilize sklearn's iris data with a small fully connected model (35 parameters).\n",
    "- Compute the following matrices/vectors using torch.func with a single data point from the test set:\n",
    "    - Gradient\n",
    "    - Uncentered Covariance of gradient\n",
    "    - Hessian\n",
    "    - Generalized Gauss-Newton Matrix\n",
    "    - Fisher Information Matrix\n",
    "- Additionally, briefly verify their properties.\n",
    "\n",
    "### Note\n",
    "- For simplicity, calculations are performed under `batch_size = 1`.\n",
    "    - This source code cannot run when `batch_size != 1`\n",
    "\n",
    "### Reference\n",
    "- https://pytorch.org/docs/stable/func.api.html\n",
    "- [Limitations of the Empirical Fisher Approximation for Natural Gradient Descent](https://arxiv.org/abs/1905.12558)"
   ]
  },
  {
   "cell_type": "code",
   "execution_count": 1,
   "id": "b1fbd8fd-e814-472d-848b-fe57906458d8",
   "metadata": {},
   "outputs": [],
   "source": [
    "from math import sqrt\n",
    "\n",
    "import matplotlib.pyplot as plt\n",
    "plt.style.use(\"ggplot\")\n",
    "\n",
    "from sklearn.datasets import load_iris\n",
    "from sklearn.model_selection import train_test_split\n",
    "\n",
    "import torch\n",
    "import torch.nn as nn\n",
    "import torch.nn.functional as F\n",
    "from torch.func import functional_call, grad, hessian, jacfwd, vmap\n",
    "from torch.utils.data import DataLoader, TensorDataset\n",
    "torch.set_default_dtype(torch.float64)\n",
    "torch.set_printoptions(sci_mode=False)"
   ]
  },
  {
   "cell_type": "markdown",
   "id": "28ef4c06-0388-4fc3-9186-7bb11a9c4c86",
   "metadata": {},
   "source": [
    "# Setup of data and model"
   ]
  },
  {
   "cell_type": "code",
   "execution_count": 2,
   "id": "c92f0e8d-ae21-413f-8d22-792c38599d0c",
   "metadata": {},
   "outputs": [
    {
     "name": "stdout",
     "output_type": "stream",
     "text": [
      "torch.Size([120, 4]) torch.Size([120])\n",
      "torch.Size([30, 4]) torch.Size([30])\n"
     ]
    }
   ],
   "source": [
    "# load data\n",
    "X, y = load_iris(return_X_y=True) # iris data from sklearn\n",
    "x_train, x_test, y_train, y_test = train_test_split(X, y, test_size=0.2)\n",
    "x_train, x_test = torch.from_numpy(x_train), torch.from_numpy(x_test)\n",
    "y_train, y_test = torch.from_numpy(y_train).to(torch.long), torch.from_numpy(y_test).to(torch.long)\n",
    "print(x_train.size(), y_train.size())\n",
    "print(x_test.size(), y_test.size())"
   ]
  },
  {
   "cell_type": "code",
   "execution_count": 3,
   "id": "3631457c-a56e-4baa-b9b4-3fbc4ea1ea21",
   "metadata": {},
   "outputs": [],
   "source": [
    "class FullyConnectedModel(nn.Module):\n",
    "    def __init__(self):\n",
    "        super(FullyConnectedModel, self).__init__()\n",
    "        self.linear1 = nn.Linear(4, 5, bias=False)\n",
    "        self.linear2 = nn.Linear(5, 3, bias=False)\n",
    "\n",
    "    def forward(self, x):\n",
    "        x = F.tanh(self.linear1(x))\n",
    "        x = self.linear2(x)\n",
    "        return x"
   ]
  },
  {
   "cell_type": "code",
   "execution_count": 4,
   "id": "d837a1ba-7627-439d-b846-62be8ea0385c",
   "metadata": {},
   "outputs": [
    {
     "name": "stdout",
     "output_type": "stream",
     "text": [
      "# of parameters: 35\n",
      "CPU times: user 967 µs, sys: 983 µs, total: 1.95 ms\n",
      "Wall time: 1.39 ms\n"
     ]
    }
   ],
   "source": [
    "%%time\n",
    "# data \n",
    "train_dataset = TensorDataset(x_train, y_train)\n",
    "train_loader = DataLoader(train_dataset, batch_size=1, shuffle=True)\n",
    "test_dataset = TensorDataset(x_test, y_test)\n",
    "test_loader = DataLoader(test_dataset, batch_size=1, shuffle=True)\n",
    "\n",
    "# model training\n",
    "model = FullyConnectedModel()\n",
    "criterion = torch.nn.CrossEntropyLoss()\n",
    "\n",
    "print(f\"# of parameters: {sum(p.numel() for p in model.parameters())}\")"
   ]
  },
  {
   "cell_type": "markdown",
   "id": "7f236b87-7aec-4f4d-ada7-b1fe11d03183",
   "metadata": {},
   "source": [
    "### Data and Model Points Used for Calculations\n",
    "- For simplicity of understanding, only one data point from the test data is used."
   ]
  },
  {
   "cell_type": "code",
   "execution_count": 5,
   "id": "ed4242f2-9897-4f20-bfea-376afc44e33e",
   "metadata": {},
   "outputs": [],
   "source": [
    "# data point\n",
    "data, target = next(iter(test_loader))\n",
    "# model point\n",
    "params = dict(model.named_parameters())"
   ]
  },
  {
   "cell_type": "markdown",
   "id": "4c2e8d86-986a-4efa-b798-029ed2b8500b",
   "metadata": {},
   "source": [
    "# Notation\n",
    "- $(x_i, y_i)$: input features and target labels\n",
    "- $p(x, y)$: data distribution\n",
    "- $p_{\\theta} (x, y) = p(x) p_\\theta(y|x) = p(x) p_\\theta(y|x, f(\\theta))$: model distribution\n",
    "  - $\\theta$: parameter\n",
    "  - $f(\\theta)$: model\n",
    "- $\\ell(x_i, y_i, f(\\theta))$: loss function"
   ]
  },
  {
   "cell_type": "markdown",
   "id": "2fb03d82-3554-4596-a30c-99041099964a",
   "metadata": {},
   "source": [
    "# Gradient\n",
    "- $g = \\mathbb{E}_{p(x, y)}[\\frac{\\partial \\ell}{\\partial \\theta}]$"
   ]
  },
  {
   "cell_type": "code",
   "execution_count": 6,
   "id": "7028301a-d18d-40dc-bded-f1d4a9aae145",
   "metadata": {},
   "outputs": [
    {
     "name": "stdout",
     "output_type": "stream",
     "text": [
      "torch.Size([35, 1])\n"
     ]
    }
   ],
   "source": [
    "def compute_gradient(model, params, data, target):\n",
    "    def compute_loss(model, params, data, target):\n",
    "        out = functional_call(model, params, (data,))\n",
    "        return criterion(out, target)\n",
    "    \n",
    "    g_dict = grad(compute_loss, argnums=1)(model, params, data, target)\n",
    "    g = torch.cat([g.data.flatten() for g in g_dict.values()]).unsqueeze(1)\n",
    "    return g\n",
    "\n",
    "g = compute_gradient(model, params, data, target)\n",
    "print(g.size())"
   ]
  },
  {
   "cell_type": "markdown",
   "id": "f24e7119-5ca9-4827-9f70-bb501bab7e71",
   "metadata": {},
   "source": [
    "### uncentered covariance of gradient\n",
    "- $C = \\mathbb{E}_{p(x, y)}[\\frac{\\partial \\ell}{\\partial \\theta} \\frac{\\partial \\ell}{\\partial \\theta}^{\\mathrm{T}}]$\n",
    "- $\\neq \\mathbb{E}_{p(x, y)}[\\frac{\\partial \\ell}{\\partial \\theta}] \\mathbb{E}_{p(x, y)}[\\frac{\\partial \\ell}{\\partial \\theta}]^{\\mathrm{T}}$"
   ]
  },
  {
   "cell_type": "code",
   "execution_count": 7,
   "id": "d90fc24a-426a-4cfb-bfe9-34a6966ca669",
   "metadata": {},
   "outputs": [
    {
     "name": "stdout",
     "output_type": "stream",
     "text": [
      "torch.Size([35, 35])\n"
     ]
    }
   ],
   "source": [
    "c = g @ g.T\n",
    "print(c.size())"
   ]
  },
  {
   "cell_type": "markdown",
   "id": "33a8e15c-8a3e-499e-a98d-67908a2fe4b6",
   "metadata": {},
   "source": [
    "# Hessian\n",
    "- $H = \\mathbb{E}_{p(x, y)}[\\frac{\\partial^2 \\ell}{\\partial \\theta \\theta^{\\mathrm{T}}}]$"
   ]
  },
  {
   "cell_type": "code",
   "execution_count": 8,
   "id": "c0bdca9f-d1a0-4db6-a0f6-b4e05832829d",
   "metadata": {},
   "outputs": [
    {
     "name": "stdout",
     "output_type": "stream",
     "text": [
      "torch.Size([35, 35])\n"
     ]
    }
   ],
   "source": [
    "def compute_hessian(model, params, data, target):\n",
    "    def compute_loss(model, params, data, target):\n",
    "        out = functional_call(model, params, data)\n",
    "        return criterion(out, target)\n",
    "    \n",
    "    @torch.no_grad()\n",
    "    def hessian_dict_to_matrix(hess_dict):\n",
    "        \"\"\"\n",
    "        Convert the Hessian dictionary returned from torch.func\n",
    "        to a Hessian matrix of size (n_params x n_params).\n",
    "        \"\"\"\n",
    "        n_params_list = [int(sqrt(d[n].numel())) for n, d in hess_dict.items()]\n",
    "        n_params = sum(n_params_list)\n",
    "        hess = torch.zeros(n_params, n_params)\n",
    "        start_rn = 0\n",
    "        for hess_dict_rows, n_params_block in zip(hess_dict.values(), n_params_list):\n",
    "            hess[start_rn:start_rn+n_params_block, :] = torch.cat([hess_block.reshape(n_params_block, -1) for hess_block in hess_dict_rows.values()], dim=1) # n_params_block x n_params_all\n",
    "            start_rn += n_params_block\n",
    "        return hess\n",
    "    \n",
    "    \n",
    "    hess_dict = hessian(compute_loss, argnums=1)(model, params, data, target)\n",
    "    hess = hessian_dict_to_matrix(hess_dict)\n",
    "    return hess\n",
    "\n",
    "hess = compute_hessian(model, params, data, target)\n",
    "print(hess.size())"
   ]
  },
  {
   "cell_type": "markdown",
   "id": "194fb969-66f5-428a-86e3-a4086223552d",
   "metadata": {},
   "source": [
    "## Generalized Gauss Newton Decomposition\n",
    "By applying the product rule of differentiation, we get:\n",
    "- $\\frac{\\partial^2 \\ell}{\\partial \\theta \\partial \\theta^{\\mathrm{T}}} = \\frac{\\partial f}{\\partial \\theta} \\frac{\\partial^2 \\ell}{\\partial f^2} \\frac{\\partial f}{\\partial \\theta}^{\\mathrm{T}} + \\frac{\\partial \\ell}{\\partial f} \\frac{\\partial^2 f}{\\partial \\theta \\theta^{\\mathrm{T}}} = G + R$\n",
    "- $G$: Generalized Gauss-Newton Matrix (GGN)\n",
    "- $R$: residual hessian (No specific name seems to be assigned)\n",
    "- When taking expectations, both $G$ and $R$ are considered under $p(x, y)$, similar to $H$."
   ]
  },
  {
   "cell_type": "code",
   "execution_count": 9,
   "id": "cdde497e-3997-43e1-b596-2baf4941f939",
   "metadata": {},
   "outputs": [],
   "source": [
    "def compute_ggn(model, params, data, target):\n",
    "    out = model(data)\n",
    "    n_class = out.size(1)\n",
    "    jac_f_theta_dict = jacfwd(lambda params: functional_call(model, params, data), argnums=0)(params)\n",
    "    jac_f_theta = torch.cat([p.reshape(n_class, -1) for p in jac_f_theta_dict.values()], dim=1) # n_class x n_params\n",
    "    hess_l_f = hessian(lambda out: criterion(out, target), argnums=0)(out).squeeze() # n_class x n_class\n",
    "    ggn = jac_f_theta.T @ hess_l_f @ jac_f_theta\n",
    "    return ggn\n",
    "\n",
    "hess_ggn = compute_ggn(model, params, data, target)"
   ]
  },
  {
   "cell_type": "code",
   "execution_count": 10,
   "id": "92bcfcfd-d72a-4c54-9283-6da95906c291",
   "metadata": {},
   "outputs": [],
   "source": [
    "def compute_hess_resid(model, params, data, target):\n",
    "    @torch.no_grad()\n",
    "    def hessian_dict_to_tensor(hess_dict, n_class):\n",
    "        \"\"\"\n",
    "        Convert the Hessian dictionary returned from torch.func\n",
    "        to a Hessian matrix of size (n_class x n_params x n_params).\n",
    "        \"\"\"\n",
    "        n_params_list = [int(sqrt(d[n].size()[2:].numel())) for n, d in hess_dict.items()]\n",
    "        n_params = sum(n_params_list)\n",
    "        hess = torch.zeros(n_class, n_params, n_params)\n",
    "        start_rn = 0\n",
    "        for hess_dict_rows, n_params_block in zip(hess_dict.values(), n_params_list):\n",
    "            hess[:, start_rn:start_rn+n_params_block, :] = torch.cat([hess_block.reshape(n_class, n_params_block, -1) for hess_block in hess_dict_rows.values()], dim=2) # n_params_block x n_params_all\n",
    "            start_rn += n_params_block\n",
    "        return hess\n",
    "\n",
    "    out = model(data)\n",
    "    n_class = out.size(1)\n",
    "    grad_l_f = grad(lambda out: criterion(out, target))(out) # 1 x n_class\n",
    "    hess_f_theta_dict = hessian(lambda params: functional_call(model, params, data))(params)\n",
    "    hess_f_theta = hessian_dict_to_tensor(hess_f_theta_dict, n_class) # n_class x n_params x n_params\n",
    "    hess_resid = vmap(lambda v, h: v * h)(grad_l_f[0], hess_f_theta).sum(dim=0)\n",
    "    return hess_resid\n",
    "\n",
    "hess_resid = compute_hess_resid(model, params, data, target)"
   ]
  },
  {
   "cell_type": "code",
   "execution_count": 11,
   "id": "5f197d25-4532-456d-ba21-d49250c4e4f2",
   "metadata": {},
   "outputs": [
    {
     "data": {
      "text/plain": [
       "(True, False, False)"
      ]
     },
     "execution_count": 11,
     "metadata": {},
     "output_type": "execute_result"
    }
   ],
   "source": [
    "torch.allclose(hess_ggn+hess_resid, hess), torch.allclose(hess_ggn, hess), torch.allclose(hess_resid, hess)"
   ]
  },
  {
   "cell_type": "markdown",
   "id": "7a5b57ca-0409-4d80-a3fd-9fccc7fed65c",
   "metadata": {},
   "source": [
    "### Logistic Regression Model\n",
    "In generalized linear model, R becomes a zero matrix, and H = GGN."
   ]
  },
  {
   "cell_type": "code",
   "execution_count": 12,
   "id": "82ac20ad-a1e0-460e-b356-42cb8548ba2d",
   "metadata": {},
   "outputs": [],
   "source": [
    "class LogisticRegressionModel(nn.Module):\n",
    "    def __init__(self):\n",
    "        super(LogisticRegressionModel, self).__init__()\n",
    "        self.linear = nn.Linear(4, 3, bias=False)\n",
    "\n",
    "    def forward(self, x):\n",
    "        return self.linear(x)\n",
    "\n",
    "model_linear = LogisticRegressionModel()\n",
    "params_linear = dict(model_linear.named_parameters())"
   ]
  },
  {
   "cell_type": "code",
   "execution_count": 13,
   "id": "69e7783a-86aa-4b98-b950-67c041dd8678",
   "metadata": {},
   "outputs": [],
   "source": [
    "hess_linear = compute_hessian(model_linear, params_linear, data, target)\n",
    "hess_ggn_linear = compute_ggn(model_linear, params_linear, data, target)\n",
    "hess_resid_linear = compute_hess_resid(model_linear, params_linear, data, target)"
   ]
  },
  {
   "cell_type": "code",
   "execution_count": 14,
   "id": "8d51ef49-aa44-46cf-b88c-e4e607ae5459",
   "metadata": {},
   "outputs": [
    {
     "data": {
      "text/plain": [
       "(True, True)"
      ]
     },
     "execution_count": 14,
     "metadata": {},
     "output_type": "execute_result"
    }
   ],
   "source": [
    "torch.allclose(hess_linear, hess_ggn_linear), torch.allclose(torch.zeros(12, 12), hess_resid_linear)"
   ]
  },
  {
   "cell_type": "markdown",
   "id": "b4c143d6-04fa-454c-8a27-aa4fc079af80",
   "metadata": {},
   "source": [
    "### GGN after Training\n",
    "- As the model approaches the minimum, GGN approximates the Hessian\n",
    "- Check the transition of the ratio of Frobenius norm between GGN and the Hessian."
   ]
  },
  {
   "cell_type": "code",
   "execution_count": 15,
   "id": "701c771f-6c18-4860-ab55-12df1512dd19",
   "metadata": {},
   "outputs": [
    {
     "data": {
      "image/png": "[encoded data removed]",
      "text/plain": [
       "<Figure size 640x480 with 1 Axes>"
      ]
     },
     "metadata": {},
     "output_type": "display_data"
    },
    {
     "name": "stdout",
     "output_type": "stream",
     "text": [
      "CPU times: user 15.7 s, sys: 122 ms, total: 15.9 s\n",
      "Wall time: 15.3 s\n"
     ]
    }
   ],
   "source": [
    "%%time\n",
    "def train():\n",
    "    matrix_norms = {\"hess_ggn_norm_ratio\": [], \"hess_resid_norm_ratio\": []}\n",
    "    model = FullyConnectedModel()\n",
    "    optimizer = torch.optim.Adam(model.parameters(), lr=0.01)\n",
    "    for epoch in range(50):\n",
    "        hess = 0\n",
    "        ggn = 0\n",
    "        for data, target in train_loader:\n",
    "            optimizer.zero_grad()\n",
    "            out = model(data)\n",
    "            loss = criterion(out, target)\n",
    "            loss.backward()\n",
    "            optimizer.step()\n",
    "            params = dict(model.named_parameters())\n",
    "            hess += compute_hessian(model, params, data, target)\n",
    "            ggn += compute_ggn(model, params, data, target)\n",
    "        matrix_norms[\"hess_ggn_norm_ratio\"].append(ggn.norm().sqrt().item() / hess.norm().sqrt().item())\n",
    "        matrix_norms[\"hess_resid_norm_ratio\"].append((hess - ggn).norm().sqrt().item() / hess.norm().sqrt().item())\n",
    "    return matrix_norms\n",
    "\n",
    "matrix_norms = train()\n",
    "\n",
    "# plot\n",
    "for k, v in matrix_norms.items():\n",
    "    plt.plot(v, label=k, alpha=0.5)\n",
    "plt.xlabel(\"epoch\")\n",
    "plt.ylabel(\"norm\")\n",
    "plt.legend()\n",
    "plt.show()"
   ]
  },
  {
   "cell_type": "markdown",
   "id": "ecdbb592-250f-4d89-a14f-233c0624e753",
   "metadata": {},
   "source": [
    "# Fisher\n",
    "- $F = \\mathbb{E}_{p_{\\theta}(x, y)}[\\frac{\\partial^2 \\ell}{\\partial \\theta \\theta^{\\mathrm{T}}}]$\n",
    "- $\\neq H$ (In Fisher, samples are drawn from the model distribution)\n",
    "- $\\neq C$ (While C (uncentered covariance of gradient) is sometimes referred to as empirical Fisher, it is different)\n",
    "\n",
    "Fisher possesses the following properties:\n",
    "- When $\\frac{\\partial^2 \\ell}{\\partial f^2}$ does not depend on y, F coincides with GGN.\n",
    "  - The loss function in this notebook satisfy this condition.\n",
    "\n",
    "Now:\n",
    "- Compute F as per its definition using samples drawn from the model distribution, and verify if it matches GGN.\n",
    "- Compute using both first and second-order differentiation definitions.\n",
    "- In a straightforward, Fisher could be approximated by repeatedly sampling from $p_{\\theta}(y|x_k)$ for a specific x_k. However, since $p(y|x_k)$ is a categorical distribution in this case, we take expectations based on its probabilities."
   ]
  },
  {
   "cell_type": "code",
   "execution_count": 16,
   "id": "e7b7fdf6-f317-4765-b138-b0a9d43c62c9",
   "metadata": {},
   "outputs": [],
   "source": [
    "# fisrt-order deriv definition\n",
    "prob = model(data).softmax(dim=1)[0]\n",
    "n_params = sum(p.numel() for p in model.parameters())\n",
    "n_class = 3\n",
    "\n",
    "fisher_grad = torch.zeros(n_params, n_params)\n",
    "for target_tilde in range(n_class):\n",
    "    g_tilde = compute_gradient(model, params, data, torch.tensor([target_tilde]))\n",
    "    fisher_grad += (g_tilde @ g_tilde.T) * prob[target_tilde]"
   ]
  },
  {
   "cell_type": "code",
   "execution_count": 17,
   "id": "9c89c77f-ac26-45f6-8e00-08a1cb66ebbd",
   "metadata": {},
   "outputs": [
    {
     "data": {
      "text/plain": [
       "True"
      ]
     },
     "execution_count": 17,
     "metadata": {},
     "output_type": "execute_result"
    }
   ],
   "source": [
    "torch.allclose(fisher_grad, hess_ggn)"
   ]
  },
  {
   "cell_type": "code",
   "execution_count": 18,
   "id": "ad98c341-802b-4e9e-bd92-d0370fefcaae",
   "metadata": {},
   "outputs": [],
   "source": [
    "# second-order deriv definition\n",
    "prob = model(data).softmax(dim=1)[0]\n",
    "n_params = sum(p.numel() for p in model.parameters())\n",
    "n_class = 3\n",
    "\n",
    "fisher_hess = torch.zeros(n_params, n_params)\n",
    "for target_tilde in range(n_class):\n",
    "    hess_tilde = compute_hessian(model, params, data, torch.tensor([target_tilde]))\n",
    "    fisher_hess += hess_tilde * prob[target_tilde]"
   ]
  },
  {
   "cell_type": "code",
   "execution_count": 19,
   "id": "1c81585f-9d7d-4779-8ea4-2635ec0eab96",
   "metadata": {},
   "outputs": [
    {
     "data": {
      "text/plain": [
       "True"
      ]
     },
     "execution_count": 19,
     "metadata": {},
     "output_type": "execute_result"
    }
   ],
   "source": [
    "torch.allclose(fisher_hess, hess_ggn)"
   ]
  },
  {
   "cell_type": "code",
   "execution_count": 20,
   "id": "f3c3321d-14c6-496e-b9bc-a2d789dafe2b",
   "metadata": {},
   "outputs": [
    {
     "data": {
      "text/plain": [
       "True"
      ]
     },
     "execution_count": 20,
     "metadata": {},
     "output_type": "execute_result"
    }
   ],
   "source": [
    "torch.allclose(fisher_hess, fisher_grad)"
   ]
  },
  {
   "cell_type": "code",
   "execution_count": null,
   "id": "55b820bc-6979-4ebc-87ba-ad7662b89d69",
   "metadata": {},
   "outputs": [],
   "source": []
  }
 ],
 "metadata": {
  "kernelspec": {
   "display_name": "Python 3 (ipykernel)",
   "language": "python",
   "name": "python3"
  },
  "language_info": {
   "codemirror_mode": {
    "name": "ipython",
    "version": 3
   },
   "file_extension": ".py",
   "mimetype": "text/x-python",
   "name": "python",
   "nbconvert_exporter": "python",
   "pygments_lexer": "ipython3",
   "version": "3.11.7"
  }
 },
 "nbformat": 4,
 "nbformat_minor": 5
}
