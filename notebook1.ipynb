{
 "cells": [
  {
   "cell_type": "markdown",
   "id": "a8179383-edf5-4a79-a1f5-82dba10bc878",
   "metadata": {},
   "source": [
    "# Practice Using torch.func with Logistic Regression\n",
    "- Utilize sklearn's iris data with a 3-class Logistic Regression model (12 parameters).\n",
    "- Compute gradients and Hessian matrix using one data point from test data.\n",
    "- Compare the results with analytical ones.\n",
    "\n",
    "Reference: https://pytorch.org/docs/stable/func.api.html"
   ]
  },
  {
   "cell_type": "code",
   "execution_count": 1,
   "id": "b1fbd8fd-e814-472d-848b-fe57906458d8",
   "metadata": {},
   "outputs": [],
   "source": [
    "from math import sqrt\n",
    "\n",
    "import matplotlib.pyplot as plt\n",
    "plt.style.use(\"ggplot\")\n",
    "\n",
    "from sklearn.datasets import load_iris\n",
    "from sklearn.model_selection import train_test_split\n",
    "\n",
    "import torch\n",
    "import torch.nn as nn\n",
    "import torch.nn.functional as F\n",
    "from torch.func import functional_call, grad, hessian, jacfwd, vmap\n",
    "from torch.utils.data import DataLoader, TensorDataset\n",
    "torch.set_default_dtype(torch.float64)\n",
    "torch.set_printoptions(sci_mode=False)"
   ]
  },
  {
   "cell_type": "markdown",
   "id": "28ef4c06-0388-4fc3-9186-7bb11a9c4c86",
   "metadata": {},
   "source": [
    "# Setup of data and model, followed by training\n",
    "- A simple model with 4-dimensional input, 3-dimensional output, and 12 parameters (4*3).\n",
    "- In this notebook, it is not necessary to train the model."
   ]
  },
  {
   "cell_type": "code",
   "execution_count": 2,
   "id": "c92f0e8d-ae21-413f-8d22-792c38599d0c",
   "metadata": {},
   "outputs": [
    {
     "name": "stdout",
     "output_type": "stream",
     "text": [
      "torch.Size([120, 4]) torch.Size([120])\n",
      "torch.Size([30, 4]) torch.Size([30])\n"
     ]
    }
   ],
   "source": [
    "# load data\n",
    "X, y = load_iris(return_X_y=True)\n",
    "x_train, x_test, y_train, y_test = train_test_split(X, y, test_size=0.2)\n",
    "x_train, x_test = torch.from_numpy(x_train), torch.from_numpy(x_test)\n",
    "y_train, y_test = torch.from_numpy(y_train).to(torch.long), torch.from_numpy(y_test).to(torch.long)\n",
    "print(x_train.size(), y_train.size())\n",
    "print(x_test.size(), y_test.size())"
   ]
  },
  {
   "cell_type": "code",
   "execution_count": 3,
   "id": "3631457c-a56e-4baa-b9b4-3fbc4ea1ea21",
   "metadata": {},
   "outputs": [],
   "source": [
    "class LogisticRegressionModel(nn.Module):\n",
    "    def __init__(self):\n",
    "        super(LogisticRegressionModel, self).__init__()\n",
    "        self.linear = nn.Linear(4, 3, bias=False)\n",
    "\n",
    "    def forward(self, x):\n",
    "        return self.linear(x)"
   ]
  },
  {
   "cell_type": "code",
   "execution_count": 4,
   "id": "d837a1ba-7627-439d-b846-62be8ea0385c",
   "metadata": {},
   "outputs": [
    {
     "name": "stdout",
     "output_type": "stream",
     "text": [
      "# of parameters: 12\n",
      "CPU times: user 1.38 s, sys: 58.5 ms, total: 1.44 s\n",
      "Wall time: 1.44 s\n"
     ]
    }
   ],
   "source": [
    "%%time\n",
    "# data \n",
    "train_dataset = TensorDataset(x_train, y_train)\n",
    "train_loader = DataLoader(train_dataset, batch_size=1, shuffle=True)\n",
    "test_dataset = TensorDataset(x_test, y_test)\n",
    "test_loader = DataLoader(test_dataset, batch_size=1, shuffle=True)\n",
    "\n",
    "# model training\n",
    "model = LogisticRegressionModel()\n",
    "criterion = torch.nn.CrossEntropyLoss()\n",
    "optimizer = torch.optim.SGD(model.parameters(), lr=0.01)\n",
    "\n",
    "print(f\"# of parameters: {sum(p.numel() for p in model.parameters())}\")\n",
    "\n",
    "for epoch in range(100):\n",
    "    for data, target in train_loader:\n",
    "        optimizer.zero_grad()\n",
    "        out = model(data)\n",
    "        loss = criterion(out, target)\n",
    "        loss.backward()\n",
    "        optimizer.step()"
   ]
  },
  {
   "cell_type": "markdown",
   "id": "7f236b87-7aec-4f4d-ada7-b1fe11d03183",
   "metadata": {},
   "source": [
    "# Data and Model Points Used for Calculations\n",
    "- Use one data point from the test data and a trained model to compute gradients and the Hessian matrix.\n",
    "- Only one data point is used for simplicity."
   ]
  },
  {
   "cell_type": "code",
   "execution_count": 5,
   "id": "1c041cb2-3ac0-4d3a-843d-02939f1b3e7b",
   "metadata": {},
   "outputs": [
    {
     "name": "stdout",
     "output_type": "stream",
     "text": [
      "torch.Size([1, 4]) tensor([[5.1000, 3.5000, 1.4000, 0.3000]])\n",
      "torch.Size([1]) tensor([0])\n"
     ]
    }
   ],
   "source": [
    "# data point\n",
    "data, target = next(iter(test_loader))\n",
    "print(data.size(), data)\n",
    "print(target.size(), target)\n",
    "\n",
    "# model point\n",
    "params = dict(model.named_parameters())"
   ]
  },
  {
   "cell_type": "markdown",
   "id": "2fb03d82-3554-4596-a30c-99041099964a",
   "metadata": {},
   "source": [
    "# Gradient\n",
    "- Comparison of the following three calculation methods:\n",
    "  - torch.func\n",
    "  - loss.backward\n",
    "  - analytical solution"
   ]
  },
  {
   "cell_type": "code",
   "execution_count": 6,
   "id": "7028301a-d18d-40dc-bded-f1d4a9aae145",
   "metadata": {},
   "outputs": [
    {
     "name": "stdout",
     "output_type": "stream",
     "text": [
      "tensor([[    -0.0335,     -0.0230,     -0.0092,     -0.0020,      0.0335,\n",
      "              0.0230,      0.0092,      0.0020,      0.0000,      0.0000,\n",
      "              0.0000,      0.0000]])\n"
     ]
    }
   ],
   "source": [
    "# torch.func\n",
    "def compute_loss(model, params, data, target):\n",
    "    out = functional_call(model, params, (data,))\n",
    "    return criterion(out, target)\n",
    "\n",
    "g_dict = grad(compute_loss, argnums=1)(model, params, data, target)\n",
    "g1 = torch.cat([g.data.flatten() for g in g_dict.values()]).unsqueeze(1)\n",
    "print(g1.T)"
   ]
  },
  {
   "cell_type": "code",
   "execution_count": 7,
   "id": "c968eb68-15c6-499a-8a1b-680dc5807448",
   "metadata": {},
   "outputs": [
    {
     "name": "stdout",
     "output_type": "stream",
     "text": [
      "tensor([[    -0.0335,     -0.0230,     -0.0092,     -0.0020,      0.0335,\n",
      "              0.0230,      0.0092,      0.0020,      0.0000,      0.0000,\n",
      "              0.0000,      0.0000]])\n"
     ]
    }
   ],
   "source": [
    "# loss.backward\n",
    "model.zero_grad()\n",
    "criterion(model(data), target).backward()\n",
    "g2 = torch.cat([p.grad.data.flatten() for p in model.parameters()]).unsqueeze(1)\n",
    "print(g2.T)"
   ]
  },
  {
   "cell_type": "code",
   "execution_count": 8,
   "id": "c8392b12-cd55-48fa-81f9-8293246eccb2",
   "metadata": {},
   "outputs": [
    {
     "name": "stdout",
     "output_type": "stream",
     "text": [
      "tensor([[    -0.0335,     -0.0230,     -0.0092,     -0.0020,      0.0335,\n",
      "              0.0230,      0.0092,      0.0020,      0.0000,      0.0000,\n",
      "              0.0000,      0.0000]])\n"
     ]
    }
   ],
   "source": [
    "# analytical solution\n",
    "out = model(data)\n",
    "target_onehot = F.one_hot(target, num_classes=3)\n",
    "g3 = ((out.softmax(dim=1) - target_onehot).T @ data).flatten().unsqueeze(1).data\n",
    "print(g3.T)"
   ]
  },
  {
   "cell_type": "code",
   "execution_count": 9,
   "id": "d90fc24a-426a-4cfb-bfe9-34a6966ca669",
   "metadata": {},
   "outputs": [
    {
     "data": {
      "text/plain": [
       "(True, True)"
      ]
     },
     "execution_count": 9,
     "metadata": {},
     "output_type": "execute_result"
    }
   ],
   "source": [
    "torch.allclose(g1, g2), torch.allclose(g1, g3)"
   ]
  },
  {
   "cell_type": "markdown",
   "id": "e4b703c3-f1da-4d9d-adc7-10e6d9ac701c",
   "metadata": {},
   "source": [
    "### Note\n",
    "If `dict(model.named_parameters())` takes the form of `{'name1': parameter_values, 'name2': parameter_values}`,  \n",
    "then the `torch.func.grad` function also returns in a similar format, such as `{'name1': gradient_values, 'name2': gradient_values}`."
   ]
  },
  {
   "cell_type": "markdown",
   "id": "33a8e15c-8a3e-499e-a98d-67908a2fe4b6",
   "metadata": {},
   "source": [
    "# Hessian\n",
    "- Comparison of the following two calculation methods:\n",
    "  - torch.func\n",
    "  - analytical solution"
   ]
  },
  {
   "cell_type": "code",
   "execution_count": 10,
   "id": "c0bdca9f-d1a0-4db6-a0f6-b4e05832829d",
   "metadata": {},
   "outputs": [
    {
     "name": "stdout",
     "output_type": "stream",
     "text": [
      "torch.Size([12, 12])\n"
     ]
    }
   ],
   "source": [
    "# torch.func\n",
    "def compute_loss(model, params, data, target):\n",
    "    out = functional_call(model, params, (data,))\n",
    "    return criterion(out, target)\n",
    "\n",
    "hess_dict = hessian(compute_loss, argnums=1)(model, params, data, target)\n",
    "hess1 = hess_dict[\"linear.weight\"][\"linear.weight\"].reshape(12, 12).data\n",
    "print(hess1.size())"
   ]
  },
  {
   "cell_type": "code",
   "execution_count": 11,
   "id": "0f23b32b-7e32-4d0c-97bc-9bac15004403",
   "metadata": {},
   "outputs": [
    {
     "name": "stdout",
     "output_type": "stream",
     "text": [
      "torch.Size([12, 12])\n"
     ]
    }
   ],
   "source": [
    "# analytical solution\n",
    "prob = model(data)[0].softmax(dim=0)\n",
    "hess2 = torch.zeros(12, 12)\n",
    "for i in range(3):\n",
    "    for j in range(3):\n",
    "        hess2[i*4:(i+1)*4, j*4:(j+1)*4] = prob[i] * (int(i == j) - prob[j]) * (data.T @ data)\n",
    "\n",
    "print(hess2.size())"
   ]
  },
  {
   "cell_type": "code",
   "execution_count": 12,
   "id": "f37fd424-4dc7-477d-a03b-b642733b2e6b",
   "metadata": {},
   "outputs": [
    {
     "data": {
      "text/plain": [
       "True"
      ]
     },
     "execution_count": 12,
     "metadata": {},
     "output_type": "execute_result"
    }
   ],
   "source": [
    "torch.allclose(hess1, hess2)"
   ]
  },
  {
   "cell_type": "markdown",
   "id": "733c6440-404f-4523-bfdd-fe02c56ac308",
   "metadata": {},
   "source": [
    "### Note\n",
    "If `dict(model.named_parameters())` takes the form of `{'name1': parameter_values, 'name2': parameter_values}`,  \n",
    "then the `torch.func.hessian` function returns in the following format:\n",
    "```\n",
    "{\n",
    "    'name1': {'name1': hessian_values, 'name2': hessian_values},\n",
    "    'name2': {'name1': hessian_values, 'name2': hessian_values}\n",
    "}\n",
    "```"
   ]
  },
  {
   "cell_type": "code",
   "execution_count": null,
   "id": "26af62e4-1401-4f9a-ba4f-04bb7f29ea13",
   "metadata": {},
   "outputs": [],
   "source": []
  }
 ],
 "metadata": {
  "kernelspec": {
   "display_name": "Python 3 (ipykernel)",
   "language": "python",
   "name": "python3"
  },
  "language_info": {
   "codemirror_mode": {
    "name": "ipython",
    "version": 3
   },
   "file_extension": ".py",
   "mimetype": "text/x-python",
   "name": "python",
   "nbconvert_exporter": "python",
   "pygments_lexer": "ipython3",
   "version": "3.11.7"
  }
 },
 "nbformat": 4,
 "nbformat_minor": 5
}
